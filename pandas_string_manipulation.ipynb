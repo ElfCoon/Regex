{
 "cells": [
  {
   "cell_type": "markdown",
   "metadata": {},
   "source": [
    "Having grasped the knowledge on Regex, you can use Pandas intuitively to make more advances in manipulating data.\n",
    "\n",
    "In this notebook will be guided by the below scenario:\n",
    "##### Scenario:\n",
    "Suppose we have been given a dataset of different vehicle models recorded in a town. The model names are inconsistently formatted with leading/trailing spaces and varying case letters.\n",
    "\n",
    "##### Question \n",
    "Clean the 'model' column by removing leading/trailing spaces and converting all names to lowercase."
   ]
  },
  {
   "cell_type": "code",
   "execution_count": 15,
   "metadata": {},
   "outputs": [
    {
     "name": "stdout",
     "output_type": "stream",
     "text": [
      "                     model                  driveTrain\n",
      "0  FORTUNER (LEGENDER 2.8)            Four WHEEL Drive\n",
      "1                     VITZ  2 Wheel Drive(Front wheel)\n",
      "2           BMW(X7 SERIES)            2WD (REAR wheel)\n",
      "3        LANDROVER(4500CC)                         4X4\n",
      "4             VITZ(1390CC)                 Front Drive\n"
     ]
    }
   ],
   "source": [
    "\"\"\"\n",
    "# Sample Data - No reference to the data (generated randomly) - Play around with data you can generate\n",
    "\n",
    "Task  >>>>>>>>>>>>> # Make the second column to be LowerCase <<<<<<<<<<<<<<<<<\n",
    "\n",
    "# Data is stored in a  dictionary with a key-pair value\n",
    "# Clean the model column\n",
    "# Isolate the column that needs cleaning\n",
    "# Strip used to remove any leading or trailing spaces from the string\n",
    "# .upper/.lower is used to convert the characters in the string to Upper or Lower case\n",
    "# The methods are chained to perform both operations on a single line \n",
    "# Output should be the same as the column in the the DF\n",
    "\"\"\"\n",
    "\n",
    "import pandas as pd\n",
    "\n",
    "Data = {\n",
    "    'model':[' Fortuner (Legender 2.8)', 'vitz', 'BmW(x7 Series)', 'LandROVER(4500cc)', 'vitz(1390cc)'],\n",
    "    'driveTrain':['Four WHEEL Drive', '2 Wheel Drive(Front wheel)', '2WD (REAR wheel)', '4X4', 'Front Drive']\n",
    "}\n",
    "df = pd.DataFrame(Data)\n",
    "\n",
    "df['model'] = df['model'].str.strip().str.upper()\n",
    "print(df)\n",
    "\n"
   ]
  },
  {
   "cell_type": "markdown",
   "metadata": {},
   "source": [
    "From the DataFrame, some of the models have the engine capacity defined.\n",
    "\n",
    "Use Regex to extract the Engine Capacity from model and create a new column known as Engine Size\n",
    "Fill with uknown if there is no Engine Capacity defined"
   ]
  },
  {
   "cell_type": "code",
   "execution_count": 16,
   "metadata": {},
   "outputs": [
    {
     "name": "stdout",
     "output_type": "stream",
     "text": [
      "                     model                  driveTrain Engine Size\n",
      "0  FORTUNER (LEGENDER 2.8)            Four WHEEL Drive         2.8\n",
      "1                     VITZ  2 Wheel Drive(Front wheel)     Unknown\n",
      "2           BMW(X7 SERIES)            2WD (REAR wheel)           7\n",
      "3        LANDROVER(4500CC)                         4X4        4500\n",
      "4             VITZ(1390CC)                 Front Drive        1390\n"
     ]
    },
    {
     "name": "stderr",
     "output_type": "stream",
     "text": [
      "<>:1: SyntaxWarning: invalid escape sequence '\\d'\n",
      "<>:13: SyntaxWarning: invalid escape sequence '\\d'\n",
      "<>:1: SyntaxWarning: invalid escape sequence '\\d'\n",
      "<>:13: SyntaxWarning: invalid escape sequence '\\d'\n",
      "C:\\Users\\admin\\AppData\\Local\\Temp\\ipykernel_8180\\2374038359.py:1: SyntaxWarning: invalid escape sequence '\\d'\n",
      "  \"\"\"\n",
      "C:\\Users\\admin\\AppData\\Local\\Temp\\ipykernel_8180\\2374038359.py:13: SyntaxWarning: invalid escape sequence '\\d'\n",
      "  df['Engine Size'] = df['model'].str.extract('(\\d+\\.\\d+|\\d+)').fillna(\"Unknown\")\n"
     ]
    }
   ],
   "source": [
    "\"\"\"\n",
    "# Populating the newly created column we use the str.extract on the model column\n",
    "# Extraction is done matching a regualr pattern from each string\n",
    "# Regex Pattern (\\d+\\.\\d+|\\d+)\n",
    "# Pattern matches:\n",
    "        i) Sequence of digits followed by decimal points & more digits\n",
    "        ii) Sequence of digits\n",
    "# Extracted values are assigned to the Engine Size column\n",
    "# Missing Values in the column  are filled with \"Unknown\"\n",
    "\n",
    "\"\"\"\n",
    "\n",
    "df['Engine Size'] = df['model'].str.extract('(\\d+\\.\\d+|\\d+)').fillna(\"Unknown\")\n",
    "print(df)"
   ]
  },
  {
   "cell_type": "markdown",
   "metadata": {},
   "source": [
    "After some cleaning, we need to check  the values that are unique and their respective count \n",
    "\n",
    "Perform data aggregation to count the number of occurence of each unique model"
   ]
  },
  {
   "cell_type": "code",
   "execution_count": 17,
   "metadata": {},
   "outputs": [
    {
     "name": "stdout",
     "output_type": "stream",
     "text": [
      "model\n",
      "vitz         2\n",
      "fortuner     1\n",
      "bmw          1\n",
      "landrover    1\n",
      "Name: count, dtype: int64\n"
     ]
    }
   ],
   "source": [
    "# More cleaning and model name standardization \n",
    "\"\"\"\n",
    "# df['model']                          Access the model column as a pandas Series\n",
    "# .str.extract('([a-zA-Z]+)            Used to extract the alphabetic characters\n",
    "# expand=False                         Ensures that it remains to be a Pandas Series\n",
    "# fillna('').str.strip().str.lower()   This is a string operation \n",
    "\n",
    "\"\"\"\n",
    "\n",
    "df['model'] = df['model'].str.extract('([a-zA-Z]+)', expand=False).fillna('').str.strip().str.lower()\n",
    "\n",
    "# Count the number of occurences\n",
    "model_count = df['model'].value_counts()\n",
    "print(model_count)"
   ]
  }
 ],
 "metadata": {
  "kernelspec": {
   "display_name": "Python 3",
   "language": "python",
   "name": "python3"
  },
  "language_info": {
   "codemirror_mode": {
    "name": "ipython",
    "version": 3
   },
   "file_extension": ".py",
   "mimetype": "text/x-python",
   "name": "python",
   "nbconvert_exporter": "python",
   "pygments_lexer": "ipython3",
   "version": "3.12.1"
  }
 },
 "nbformat": 4,
 "nbformat_minor": 2
}
