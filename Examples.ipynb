{
 "cells": [
  {
   "cell_type": "markdown",
   "metadata": {},
   "source": [
    "The code below focuses on the use of Regex in Python. \n",
    "Defined tasks will give closure on what exactly happens"
   ]
  },
  {
   "cell_type": "markdown",
   "metadata": {},
   "source": [
    "Question 1\n",
    "Given a paragraph about conservation efforts, split the text into individual sentences using regular expressions."
   ]
  },
  {
   "cell_type": "code",
   "execution_count": 1,
   "metadata": {},
   "outputs": [
    {
     "name": "stdout",
     "output_type": "stream",
     "text": [
      "['Writing code feels like art', \"It is about bringing what's in your mind to life\", 'Write code']\n"
     ]
    }
   ],
   "source": [
    "# Below import provides functions and tools used to work with regex in this case .split\n",
    "\n",
    "import re\n",
    "\n",
    "# Create a variable that hold three sentences in one line\n",
    "\n",
    "text = \"Writing code feels like art. It is about bringing what's in your mind to life. Write code\"\n",
    "\n",
    "# Split the text based on pattern \"\\. \" > Period followed by space\n",
    "# r before the string indicates that it is a raw string > prevents backslashes from being interpreted as \n",
    "# escape characters\n",
    "# Print statement returns a list that contains the three sentences\n",
    "\n",
    "sentence = re.split(r\"\\. \", text)\n",
    "print(sentence)\n"
   ]
  },
  {
   "cell_type": "markdown",
   "metadata": {},
   "source": [
    "\n",
    "Question 2\n",
    "Extract all numbers followed by \"acres\" to find references to land area in a text. Utilise re.compile to create a regex pattern that matches this format."
   ]
  },
  {
   "cell_type": "code",
   "execution_count": 3,
   "metadata": {},
   "outputs": [
    {
     "name": "stdout",
     "output_type": "stream",
     "text": [
      "['2000 acres', '480 acres', '600 acres']\n"
     ]
    },
    {
     "name": "stderr",
     "output_type": "stream",
     "text": [
      "<>:1: SyntaxWarning: invalid escape sequence '\\d'\n",
      "<>:1: SyntaxWarning: invalid escape sequence '\\d'\n",
      "C:\\Users\\admin\\AppData\\Local\\Temp\\ipykernel_16380\\3927590679.py:1: SyntaxWarning: invalid escape sequence '\\d'\n",
      "  \"\"\"\n"
     ]
    }
   ],
   "source": [
    "\"\"\"\n",
    "# Use the .compile function\n",
    "# Below explains the different usecases.\n",
    "# \\d+ Matches one or more digits\n",
    "# \\s* Matches zero or more whitespace characters\n",
    "# .IGNORECASE flags the pattern case-insensitive matching \"acres\" regardless of capitalization\n",
    "# .findall() applies compiled pattern, returns a list of all matches\n",
    "\"\"\"\n",
    "\n",
    "import re\n",
    "\n",
    "text = \"The young man baught 2000 acres of land. 480 acres of the land is used for farming while 600 acres is used for camping\"\n",
    "\n",
    "\n",
    "pattern = re.compile(r'\\d+\\s*acres', re.IGNORECASE)\n",
    "land_area = pattern.findall(text)\n",
    "\n",
    "print(land_area)\n"
   ]
  },
  {
   "cell_type": "markdown",
   "metadata": {},
   "source": [
    "Question 3\n",
    "Given a text with various animal and plant species names formatted as 'Genus Species', compile a regex object to find all occurrences of these species' names in the text."
   ]
  },
  {
   "cell_type": "code",
   "execution_count": null,
   "metadata": {},
   "outputs": [],
   "source": [
    "import re\n",
    "pattern = re.compile(r'\\b[A-Z][a-z]*[a-z]')\n"
   ]
  }
 ],
 "metadata": {
  "kernelspec": {
   "display_name": "Python 3",
   "language": "python",
   "name": "python3"
  },
  "language_info": {
   "codemirror_mode": {
    "name": "ipython",
    "version": 3
   },
   "file_extension": ".py",
   "mimetype": "text/x-python",
   "name": "python",
   "nbconvert_exporter": "python",
   "pygments_lexer": "ipython3",
   "version": "3.12.1"
  }
 },
 "nbformat": 4,
 "nbformat_minor": 2
}
